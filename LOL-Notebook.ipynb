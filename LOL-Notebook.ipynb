{
 "cells": [
  {
   "cell_type": "markdown",
   "metadata": {},
   "source": [
    "1) Import Pandas\n",
    "2) Import Numpy\n",
    "3) Import Matplotlib"
   ]
  },
  {
   "cell_type": "code",
   "execution_count": 1,
   "metadata": {},
   "outputs": [],
   "source": [
    "# Importing Pandas/ Numpy/ Matplotlib\n",
    "\n",
    "import pandas as pd\n",
    "import numpy as np\n",
    "import matplotlib.pyplot as plt"
   ]
  },
  {
   "cell_type": "markdown",
   "metadata": {},
   "source": [
    "1) Import champs & match csv"
   ]
  },
  {
   "cell_type": "code",
   "execution_count": 2,
   "metadata": {},
   "outputs": [],
   "source": [
    "# Loading Data Sets\n",
    "\n",
    "champs = df1= pd.read_csv(\"Data-Sets/Champions-2024.csv\",)\n",
    "match = df2 = pd.read_csv(\"Data-Sets/lol_match_data.csv\",)"
   ]
  },
  {
   "cell_type": "code",
   "execution_count": null,
   "metadata": {},
   "outputs": [],
   "source": [
    "# Champion Details (Can Skip) \n",
    "# Original File but converted xlsx to csv due issues loading xlsx file by peer\n",
    "# https://www.kaggle.com/datasets/gabkgonzales/league-of-legends-dataset\n",
    "\n",
    "champs"
   ]
  },
  {
   "cell_type": "code",
   "execution_count": null,
   "metadata": {},
   "outputs": [],
   "source": [
    "# Match Data (Can Skip)\n",
    "# Link - https://www.kaggle.com/datasets/mldatastudent/league-of-legends-match-data (Big File >~700MB)\n",
    "\n",
    "match"
   ]
  },
  {
   "cell_type": "markdown",
   "metadata": {},
   "source": [
    "Data Cleaning\n",
    "1) Previously loaded in 2 CSV (match & champs)\n",
    "2) Remove unwanted columns from champs df to reduce columns\n",
    "3) Rearrange remaining columns\n",
    "4) Clean up of champion name data\n",
    "5) Remove time stamps from \"Release Date\" column\n",
    "6) Update release date to MM:DD:YYYY format\n",
    "7) Rename champion difficulty on a number scale from lowest to highest (1-6)\n",
    "8) Count champion Blue Essense & RP cost per champion"
   ]
  },
  {
   "cell_type": "code",
   "execution_count": null,
   "metadata": {},
   "outputs": [],
   "source": [
    "# Majors Changes to Match DF\n",
    "\n",
    "# Dropping unneccessary columns\n",
    "champs.drop(['Nick Name',  \n",
    "             'Range type', \n",
    "             'Resourse type', \n",
    "             'Base HP', \n",
    "             'Base mana',\n",
    "             'Classes'], axis=1, inplace=True)\n",
    "\n",
    "# Rearranging champs df \n",
    "champs = champs[['Name', \n",
    "               'Role', \n",
    "               'Difficulty',\n",
    "               'Release Date', \n",
    "               'Last Changed', \n",
    "               'Blue Essence', \n",
    "               'RP',]]\n",
    "\n",
    "# Replace mis-match names with punctation within name or spaces needed (caused NaN values with merge)\n",
    "champs['Name'] = champs['Name'].replace({'Dr. mundo': \"Dr. Mundo\",\n",
    "                                               'Chogath' : \"Cho'gath\",\n",
    "                                               'Dr. mundo' : 'Dr. Mundo',\n",
    "                                               'Jarvan Iv' : 'Jarvan IV',\n",
    "                                               \"KSante\" : \"K'sante\",\n",
    "                                               \"Kaisa\" : \"Kai'sa\",\n",
    "                                               'Khazix' : \"Kha'zix\",\n",
    "                                               'KogMaw' : \"Kog'maw\",\n",
    "                                               'LeeSin' : \"Lee Sin\",\n",
    "                                               'MasterYi' : 'Master Yi ',\n",
    "                                               'MissFortune' : 'Miss Fortune ',\n",
    "                                               'Nunu' : 'Nunu & Willump',\n",
    "                                               'RekSai' : \"Rek'sai\",\n",
    "                                               'Renata' : 'Renata Glasc',\n",
    "                                               'TahmKench' : 'Tahm Kench ',\n",
    "                                               'TwistedFate' : 'Twisted Fate',\n",
    "                                               'Velkoz' : \"Vel'koz\",\n",
    "                                               'MonkeyKing' : 'Wukong',\n",
    "                                               'XinZhao' : 'Xin Zhao'})\n",
    "\n",
    "# Slicing secondary roles from Role column\n",
    "champs['Role'] = champs['Role'].str.split(',').str[0]\n",
    "\n",
    "# Count the occurrences for each value in 'Difficulty'\n",
    "champ_difficulty_count = champs['Difficulty'].value_counts()\n",
    "\n",
    "# Assigning Difficulty levels based on 1-6\n",
    "champs['Difficulty'] = champs['Difficulty'].replace({'Beginner' : '1',\n",
    "                                                     'Novice' : '2',\n",
    "                                                     'Intermediate' : '3',\n",
    "                                                     'Intermediate_Plus' : '4',\n",
    "                                                     'Advanced' : '5',\n",
    "                                                     'Expert' : '6',\n",
    "                                                     })\n",
    "\n",
    "# Count Difficulity Levels (1-6)\n",
    "champ_difficulty_count = champs['Difficulty'].value_counts()\n",
    "\n",
    "# Display df\n",
    "print(champ_difficulty_count)\n",
    "\n",
    "# Slicing 'Release Date' to remove HH:MM:SS\n",
    "champs['Release Date'] = pd.to_datetime(champs['Release Date'], errors='coerce')\n",
    "\n",
    "champs['Release Date'] = pd.to_datetime(champs['Release Date'], format='%Y-%m-%d %H:%M:%S', errors='coerce')\n",
    "\n",
    "# Reformat 'Release Date' to MM/DD/YYYY format\n",
    "champs['Release Date'] = champs['Release Date'].dt.strftime('%m/%d/%Y')\n",
    "\n",
    "# Blue Essence & RP count\n",
    "blue_essence_count = champs['Blue Essence'].value_counts()\n",
    "champs_rp_count = champs['RP'].value_counts()\n",
    "\n",
    "# Display the results\n",
    "\n",
    "print(blue_essence_count)\n",
    "\n",
    "print(champs_rp_count)"
   ]
  },
  {
   "cell_type": "markdown",
   "metadata": {},
   "source": [
    "Pie Chart to show the distribution of difficulty levels of champions within the game"
   ]
  },
  {
   "cell_type": "code",
   "execution_count": null,
   "metadata": {},
   "outputs": [],
   "source": [
    "# Custom labels due to legend being too big and blocking pie chart\n",
    "difficulty_custom_labels = ['Beginner(1)', 'Novice(2)', 'Intermediate(3)', 'Intermediate Plus(4)', 'Advance(5)', 'Expert(6)']\n",
    "\n",
    "ax = champ_difficulty_count.plot.pie(\n",
    "    y='Count',                     \n",
    "    labels=difficulty_custom_labels,\n",
    "    autopct='%1.1f%%',\n",
    "    startangle=90,\n",
    "    legend=False)\n",
    "\n",
    "plt.title('Champion Difficulty Levels')\n",
    "\n",
    "plt.show()"
   ]
  },
  {
   "cell_type": "markdown",
   "metadata": {},
   "source": [
    "Bar charts of one time champion cost (Blue Essense & RP). Blue Essense is more common in the game. where RP is normally reserved to in game purchases. Personally I would save your RP for skins, battle passes, etc."
   ]
  },
  {
   "cell_type": "code",
   "execution_count": null,
   "metadata": {},
   "outputs": [],
   "source": [
    "# Blue Essence Champ costs\n",
    "ax = blue_essence_count.plot.bar(\n",
    "    y='Count',\n",
    "    x=blue_essence_count.index,\n",
    "    legend=False,\n",
    "    color='blue',\n",
    "    figsize=(8, 6))\n",
    "\n",
    "plt.title('Champion Blue Essence Cost')\n",
    "plt.xlabel('Blue Essence')\n",
    "plt.ylabel('# of Champs')\n",
    "\n",
    "plt.show()"
   ]
  },
  {
   "cell_type": "code",
   "execution_count": null,
   "metadata": {},
   "outputs": [],
   "source": [
    "# RP champ cost\n",
    "ax = champs_rp_count.plot.bar(\n",
    "    y='Count',\n",
    "    x=champs_rp_count.index,\n",
    "    legend=False,\n",
    "    color='gold',\n",
    "    figsize=(8, 6)\n",
    ")\n",
    "\n",
    "plt.title('Champion RP Cost')\n",
    "plt.xlabel('RP')\n",
    "plt.ylabel('# of Champs')\n",
    "\n",
    "plt.xticks(rotation=45, ha='right')\n",
    "\n",
    "plt.show()"
   ]
  },
  {
   "cell_type": "markdown",
   "metadata": {},
   "source": [
    "1) Make a slice of match data frame for the columns I need for this project\n",
    "2) Saving a copy of the slice of match df\n",
    "3) Rename match columns to more easier to use options\n",
    "4) Clean up of champion name data\n",
    "5) Clean up of banned champ data"
   ]
  },
  {
   "cell_type": "code",
   "execution_count": null,
   "metadata": {},
   "outputs": [],
   "source": [
    "# Dropping 99 columns retaining 9 columns from match df\n",
    "\n",
    "match = df2[['player_teamPosition',\n",
    "            'player_champName',\n",
    "            'player_champName_ban',\n",
    "            'player_kills', \n",
    "            'player_deaths', \n",
    "            'player_assists',\n",
    "            'player_kda',\n",
    "            'player_totalMinionsKilled', \n",
    "            'player_gameLength',]]\n",
    "\n",
    "print(match)\n",
    "\n",
    "# Creating copy of match(df)\n",
    "match = match.copy()\n",
    "\n",
    "# Rename match columns to make key 'Name' for df merge\n",
    "match.rename(columns={'player_teamPosition' : 'Position', \n",
    "                     'player_champName' : 'Name', \n",
    "                     'player_champName_ban' : 'Banned Champ',\n",
    "                     'player_kills' : 'Kills',\n",
    "                     'player_deaths' : 'Deaths', \n",
    "                     'player_assists' : 'Assists', \n",
    "                     'player_kda' : 'KDA',\n",
    "                     'player_totalMinionsKilled' : 'CS', \n",
    "                     'player_gameLength' : \"Game Time (s)\",}, inplace=True)\n",
    "\n",
    "# Replace mis-match names with punctation within name or spaces needed (match df)\n",
    "match['Name'] = match['Name'].replace({'AurelionSol': 'Aurelion Sol', \n",
    "                                               'Belveth': \"Bel'veth\",\n",
    "                                               'Chogath' : \"Cho'gath\",\n",
    "                                               'DrMundo' : 'Dr. Mundo',\n",
    "                                               'JarvanIV' : 'Jarvan IV',\n",
    "                                               \"KSante\" : \"K'sante\",\n",
    "                                               \"Kaisa\" : \"Kai'sa\",\n",
    "                                               'Khazix' : \"Kha'zix\",\n",
    "                                               \"Kogmaw\" : \"Kog'maw\",\n",
    "                                               'LeeSin' : \"Lee Sin\",\n",
    "                                               'MasterYi' : 'Master Yi',\n",
    "                                               'MissFortune' : 'Miss Fortune' ,\n",
    "                                               'Nunu' : 'Nunu & Willump',\n",
    "                                               \"Rek'Sai\" : \"Rek'sai\",\n",
    "                                               'Renata' : 'Renata Glasc',\n",
    "                                               'TahmKench' : 'Tahm Kench' , \n",
    "                                               'TwistedFate' : 'Twisted Fate',\n",
    "                                               'Velkoz' : \"Vel'koz\",\n",
    "                                               'MonkeyKing' : 'Wukong',\n",
    "                                               'XinZhao' : 'Xin Zhao',})\n",
    "\n",
    "# Replace mis-match names with punctation within name or spaces needed (match df)\n",
    "match['Banned Champ'] = match['Banned Champ'].replace({'AurelionSol': 'Aurelion Sol', \n",
    "                                               'Belveth': \"Bel'veth\",\n",
    "                                               'Chogath' : \"Cho'gath\",\n",
    "                                               'DrMundo' : 'Dr. Mundo',\n",
    "                                               'JarvanIV' : 'Jarvan IV',\n",
    "                                               \"KSante\" : \"K'sante\",\n",
    "                                               \"Kaisa\" : \"Kai'sa\",\n",
    "                                               'Khazix' : \"Kha'zix\",\n",
    "                                               \"Kogmaw\" : \"Kog'maw\",\n",
    "                                               'LeeSin' : \"Lee Sin\",\n",
    "                                               'MasterYi' : 'Master Yi',\n",
    "                                               'MissFortune' : 'Miss Fortune' ,\n",
    "                                               'Nunu' : 'Nunu & Willump',\n",
    "                                               \"Rek'Sai\" : \"Rek'sai\",\n",
    "                                               'Renata' : 'Renata Glasc',\n",
    "                                               'TahmKench' : 'Tahm Kench' , \n",
    "                                               'TwistedFate' : 'Twisted Fate',\n",
    "                                               'Velkoz' : \"Vel'koz\",\n",
    "                                               'MonkeyKing' : 'Wukong',\n",
    "                                               'XinZhao' : 'Xin Zhao',})\n",
    "\n",
    "# Replaces mis-match names within name (champs df)\n",
    "champs['Name'] = champs['Name'].replace({'Master Yi ': 'Master Yi', \n",
    "                                               'Miss Fortune ': \"Miss Fortune\",\n",
    "                                               'Tahm Kench ' : \"Tahm Kench\",})"
   ]
  },
  {
   "cell_type": "markdown",
   "metadata": {},
   "source": [
    "1) Update lane positions on match data frame (remove capitalization)\n",
    "2) Count the # of occurrences of each champion name\n",
    "3) Sort each lane (Top, Middle, Jungle, Botttom, ADC)"
   ]
  },
  {
   "cell_type": "code",
   "execution_count": null,
   "metadata": {},
   "outputs": [],
   "source": [
    "# Replace Uppercase letters & Utility to Support\n",
    "match['Position'] = match['Position'].replace({'TOP': 'Top',\n",
    "                                    'MIDDLE': 'Middle',\n",
    "                                    'JUNGLE' : 'Jungle',\n",
    "                                    'BOTTOM' : 'Bottom',\n",
    "                                    'UTILITY' : 'Support'})\n",
    "\n",
    "# Display updated \"Position\" names\n",
    "print(match)\n",
    "\n",
    "# Get the count of each champion picked (based on 'Name' column)\n",
    "match_champ_count = match['Name'].value_counts()\n",
    "\n",
    "# Display the results\n",
    "print(match_champ_count)\n",
    "\n",
    "# Sort by Position and then by the desired column, if needed\n",
    "match_sorted = match.sort_values(by=['Position'])\n",
    "\n",
    "# Display the sorted dataframe\n",
    "print(match_sorted)\n",
    "\n",
    "# Name sort to pick up NaN values for Positions\n",
    "name_sorted = match.sort_values(by=['Name'])\n",
    "\n",
    "print(name_sorted)\n",
    "match_champ_count\n"
   ]
  },
  {
   "cell_type": "markdown",
   "metadata": {},
   "source": [
    "Display top 25 picked champs regardless of which lane they play"
   ]
  },
  {
   "cell_type": "code",
   "execution_count": null,
   "metadata": {},
   "outputs": [],
   "source": [
    "# Top 25 Picked Champs (Bar Graph) \n",
    "top25_match_champ_count = match_champ_count.sort_values(ascending=False).head(25)\n",
    "\n",
    "top25_match_champ_count.plot(x='Name',y='Count', kind='bar', color='purple')\n",
    "\n",
    "plt.title('Top 25 Picked Champs')\n",
    "plt.xlabel('Champs')\n",
    "plt.ylabel('Count')\n",
    "\n",
    "plt.show()"
   ]
  },
  {
   "cell_type": "markdown",
   "metadata": {},
   "source": [
    "1) Merge of match_sorted & champs data frame to create the main dataframe for the project\n",
    "2) Secondary data frame created by name_sorted and champs (did not finish due to scope of project & time)\n",
    "3) Groupby champ to get total # of times picked, kills, deaths, assists, game time\n",
    "4) Function to convert game time to DD:HH:MM:SS format for ease of use\n",
    "5) Apply function back to main data frame (merged_df_count)"
   ]
  },
  {
   "cell_type": "code",
   "execution_count": null,
   "metadata": {},
   "outputs": [],
   "source": [
    "# Merge Sorted Lanes and Champ information\n",
    "\n",
    "merged_df = pd.merge(match_sorted, champs, on='Name', how='left')\n",
    "\n",
    "# Merge Sorted Names and Champ information (picked up NaN values not in 'merged df')\n",
    "name_df = pd.merge(name_sorted, champs, on='Name', how='left')\n",
    "\n",
    "# Groupby 'Name' Column and count the number of times each champ has been played\n",
    "merged_df_count = merged_df.groupby('Name').agg(\n",
    "    Count=('Name', 'count'),\n",
    "    Kills=('Kills', 'sum'),\n",
    "    Deaths=('Deaths', 'sum'),\n",
    "    Assists=('Assists', 'sum'),\n",
    "    Game_Time=('Game Time (s)', 'sum')\n",
    ")\n",
    "\n",
    "# Function to convert total seconds to DD:HH:MM:SS format\n",
    "def seconds_to_dhms(seconds):\n",
    "    days = seconds // 86400  # 86400 seconds in a day\n",
    "    hours = (seconds % 86400) // 3600  # 3600 seconds in an hour\n",
    "    minutes = (seconds % 3600) // 60  # 60 seconds in a minute\n",
    "    sec = seconds % 60  # Remaining seconds\n",
    "    \n",
    "    # Return formatted string in DD:HH:MM:SS\n",
    "    return f\"{int(days)}d {int(hours):02d}h {int(minutes):02d}m {int(sec):02d}s\"\n",
    "\n",
    "# Apply function to the 'Game_Time' column\n",
    "merged_df_count['Game_Time'] = merged_df_count['Game_Time'].apply(seconds_to_dhms)\n",
    "\n",
    "# Display updated dataframe\n",
    "print(merged_df_count)\n"
   ]
  },
  {
   "cell_type": "markdown",
   "metadata": {},
   "source": [
    "1) Count # of times a champ was banned based off match data frame\n",
    "2) Sort champs from highest to lowest range\n",
    "3) Changed column name \"Name\" to \"Banned Champ\"\n",
    "4) Merged banned champs with champs data frame \n",
    "5) Display top 50 banned champs"
   ]
  },
  {
   "cell_type": "code",
   "execution_count": null,
   "metadata": {},
   "outputs": [],
   "source": [
    "# Groupby 'Banned Champ' column and count each time a champ has been banned\n",
    "merged_df_banned_count = merged_df.groupby('Banned Champ').agg(Count=('Name', 'count'))\n",
    "\n",
    "# Sort to get top 50 banned champs\n",
    "top50_merged_banned = merged_df_banned_count.sort_values('Count', ascending=False).head(50)\n",
    "\n",
    "# Reset index to make 'Banned Champ' a column\n",
    "top50_merged_banned = top50_merged_banned.reset_index()\n",
    "\n",
    "# Rename the columns to 'Name' and 'Count'\n",
    "top50_merged_banned = top50_merged_banned.rename(columns={'Banned Champ': 'Name'})\n",
    "\n",
    "# Display the result\n",
    "print(top50_merged_banned)\n",
    "\n",
    "# Attach lane \n",
    "top50_merged_banned = pd.merge(top50_merged_banned, champs, on='Name', how='left')\n",
    "\n",
    "# Dropping all columns but Name, Count, and Role\n",
    "top50_merged_banned = top50_merged_banned[['Name',\n",
    "                                           'Count',]]\n",
    "# Top 50\n",
    "top50_merged_banned.head(50)\n",
    "\n"
   ]
  },
  {
   "cell_type": "markdown",
   "metadata": {},
   "source": [
    "Scaled down top 50 banned champs to top 25 banned champs due to illegible champ names on (x-axis)"
   ]
  },
  {
   "cell_type": "code",
   "execution_count": null,
   "metadata": {},
   "outputs": [],
   "source": [
    "# Top 25 Banned Champs scaled down from 50 to 25 due to illegible Champ names (x-axis)\n",
    "top25_banned = top50_merged_banned.sort_values(by='Count', ascending=False).head(25)\n",
    "\n",
    "top25_banned.plot(x='Name',y='Count', kind='bar', color='orange')\n",
    "\n",
    "plt.title('Top 25 Banned Champs')\n",
    "plt.xlabel('Champs')\n",
    "plt.ylabel('Count')\n",
    "\n",
    "plt.show()"
   ]
  },
  {
   "cell_type": "markdown",
   "metadata": {},
   "source": [
    "1) Converting total game time to DD:HH:MM:SS format\n",
    "2) Rearrange merged_df_count data frame\n",
    "3) Display merged_df_count data frame"
   ]
  },
  {
   "cell_type": "code",
   "execution_count": null,
   "metadata": {},
   "outputs": [],
   "source": [
    "# Converting Game_Time to DD:HH:MM:SS format\n",
    "\n",
    "merged_df_count['Game_Time'] = pd.to_numeric(merged_df_count['Game_Time'], errors='coerce')\n",
    "\n",
    "merged_df_count['Game_Time'] = merged_df_count['Game_Time'].apply(\n",
    "    lambda x: str(int(x // 86400)) + 'd ' + \n",
    "              str(int((x % 86400) // 3600)).zfill(2) + 'h ' + \n",
    "              str(int((x % 3600) // 60)).zfill(2) + 'm ' + \n",
    "              str(int(x % 60)).zfill(2) + 's' if pd.notna(x) else 'NaN'\n",
    ")\n",
    "\n",
    "# Renaming merged_df_count columns to reflect totals\n",
    "\n",
    "merged_df_count.rename(columns={\n",
    "    'Kills': 'Kills(Total)', \n",
    "    'Deaths': 'Deaths(Total)', \n",
    "    'Assists': 'Assists(Total)',\n",
    "    'Game_Time': 'Game_Time(Total)', \n",
    "}, inplace=True)\n",
    "\n",
    "# Display the result\n",
    "print(merged_df_count)"
   ]
  },
  {
   "cell_type": "markdown",
   "metadata": {},
   "source": [
    "1) Groupby to get total count for champions\n",
    "2) Display champion count\n",
    "3) Groupby to get the average for kills, deaths, assists, KDA, game time\n",
    "4) Rename columns"
   ]
  },
  {
   "cell_type": "code",
   "execution_count": null,
   "metadata": {},
   "outputs": [],
   "source": [
    "# Groupby 'Name' Column and count each time a champ has been played\n",
    "merged_df_mean = merged_df.groupby('Name').agg(Count=('Name', 'count'))\n",
    "\n",
    "# Display # of times a champ has been played\n",
    "print(merged_df_mean)\n",
    "\n",
    "# Groupby to get counts for each champs stats (Kills, Deaths, Assists, KDA, Game Time)\n",
    "merged_df_mean = merged_df.groupby('Name').agg(Kills=('Kills', 'mean'), \n",
    "                                        Deaths=('Deaths', 'mean'),\n",
    "                                        Assists=('Assists', 'mean'),\n",
    "                                        KDA=('KDA', 'mean'),\n",
    "                                        Game_Time=('Game Time (s)', 'mean'))\n",
    "\n",
    "print(merged_df_mean.round(1))\n",
    "\n",
    "# Rename merged_df_mean columns\n",
    "merged_df_mean.rename(columns={\n",
    "    'Kills': 'Kills(Mean)', \n",
    "    'Deaths': 'Deaths(Mean)', \n",
    "    'Assists': 'Assists(Mean)',\n",
    "    'Game_Time': 'Game_Time(Mean)',\n",
    "    'KDA' : 'KDA(Mean)' \n",
    "}, inplace=True)\n",
    "\n",
    "# Display df\n",
    "merged_df_mean"
   ]
  },
  {
   "cell_type": "markdown",
   "metadata": {},
   "source": [
    "1) Merge totals and mean to get data frame\n",
    "2) Convert average game time to MM:SS format"
   ]
  },
  {
   "cell_type": "code",
   "execution_count": null,
   "metadata": {},
   "outputs": [],
   "source": [
    "# Merge Counts and Mean information\n",
    "merged_count_mean = pd.merge(merged_df_count, merged_df_mean, on='Name', how='left')\n",
    "\n",
    "# Convert 'Game_Time(Mean)' to MM:SS format\n",
    "merged_count_mean['Game_Time(Mean)'] = merged_count_mean['Game_Time(Mean)'].apply(\n",
    "    lambda x: str(int(x // 60)).zfill(2) + 'm ' + \n",
    "              str(int(x % 60)).zfill(2) + 's' if pd.notna(x) else 'NaN')\n",
    "\n",
    "# Display the merged DataFrame\n",
    "merged_count_mean\n"
   ]
  },
  {
   "cell_type": "markdown",
   "metadata": {},
   "source": [
    "1) Sort total values by kills, deaths, assists"
   ]
  },
  {
   "cell_type": "code",
   "execution_count": 18,
   "metadata": {},
   "outputs": [],
   "source": [
    "# Sort Values by highest (Count) Kills, Deaths, Assists\n",
    "\n",
    "# Kills\n",
    "merged_kills_count = merged_df_count.sort_values(by='Kills(Total)', ascending=False)\n",
    "\n",
    "# Deaths\n",
    "merged_deaths_count = merged_df_count.sort_values(by='Deaths(Total)', ascending=False)\n",
    "\n",
    "# Assists\n",
    "merged_assists_count = merged_df_count.sort_values(by='Assists(Total)', ascending=False)\n"
   ]
  },
  {
   "cell_type": "markdown",
   "metadata": {},
   "source": [
    "1) Sort mean values by kills, deaths, assists"
   ]
  },
  {
   "cell_type": "code",
   "execution_count": 19,
   "metadata": {},
   "outputs": [],
   "source": [
    "# Sort Values by highest (Mean) Kills, Deaths, Assists\n",
    "\n",
    "# Kills\n",
    "merged_kills_mean = merged_df_mean.sort_values(by='Kills(Mean)', ascending=False)\n",
    "\n",
    "# Deaths\n",
    "merged_deaths_mean = merged_df_mean.sort_values(by='Deaths(Mean)', ascending=False)\n",
    "\n",
    "# Assists\n",
    "merged_assists_mean = merged_df_mean.sort_values(by='Assists(Mean)', ascending=False)"
   ]
  },
  {
   "cell_type": "markdown",
   "metadata": {},
   "source": [
    "1) Top 25 champions based off average(mean) kills"
   ]
  },
  {
   "cell_type": "code",
   "execution_count": null,
   "metadata": {},
   "outputs": [],
   "source": [
    "# Top 25 Kills Leaders\n",
    "merged_kills_mean = merged_kills_mean.sort_values(by='Kills(Mean)', ascending=False).head(25)\n",
    "\n",
    "ax = merged_kills_mean.plot(y='Kills(Mean)', kind='bar', figsize=(10, 6), color='green')\n",
    "\n",
    "plt.title('Top 25 Champs')\n",
    "plt.xlabel('Champions')\n",
    "plt.ylabel('Average Kills')\n",
    "\n",
    "ax.get_legend().set_visible(False)\n",
    "\n",
    "plt.show()"
   ]
  },
  {
   "cell_type": "markdown",
   "metadata": {},
   "source": [
    "1) Top 25 champions based off average(mean) deaths"
   ]
  },
  {
   "cell_type": "code",
   "execution_count": null,
   "metadata": {},
   "outputs": [],
   "source": [
    "# Top 25 Deaths Leaders\n",
    "merged_deaths_mean = merged_deaths_mean.sort_values(by='Deaths(Mean)', ascending=False).head(25)\n",
    "\n",
    "ax = merged_deaths_mean.plot(y='Deaths(Mean)', kind='bar', figsize=(10, 6), color='red')\n",
    "\n",
    "plt.title('Top 25 Champs')\n",
    "plt.xlabel('Champions')\n",
    "plt.ylabel('Average Deaths')\n",
    "\n",
    "ax.get_legend().set_visible(False)\n",
    "\n",
    "plt.show()"
   ]
  },
  {
   "cell_type": "markdown",
   "metadata": {},
   "source": [
    "1) Top 25 champions based off average(mean) assists"
   ]
  },
  {
   "cell_type": "code",
   "execution_count": null,
   "metadata": {},
   "outputs": [],
   "source": [
    "# Top 25 Assists Leaders\n",
    "merged_assists_mean = merged_assists_mean.sort_values(by='Assists(Mean)', ascending=False).head(25)\n",
    "\n",
    "ax = merged_assists_mean.plot(y='Assists(Mean)', kind='bar', figsize=(10, 6), color='brown')\n",
    "\n",
    "plt.title('Top 25 Champs') \n",
    "plt.xlabel('Champions')   \n",
    "plt.ylabel('Average Assists')\n",
    "\n",
    "ax.get_legend().set_visible(False)\n",
    "\n",
    "plt.show()"
   ]
  },
  {
   "cell_type": "markdown",
   "metadata": {},
   "source": [
    "1) Top Champs only"
   ]
  },
  {
   "cell_type": "code",
   "execution_count": null,
   "metadata": {},
   "outputs": [],
   "source": [
    "# Top Data Frame\n",
    "\n",
    "TOP = merged_df[merged_df['Position'].isin(['Top'])]\n",
    "\n",
    "TOP\n"
   ]
  },
  {
   "cell_type": "markdown",
   "metadata": {},
   "source": [
    "1) Count the champs within top data frame\n",
    "2) Groupby for kills, deaths, assists, game time round each # by .1\n",
    "3) Calculate KDA based off previous groupby\n",
    "4) Apply KDA to data frame \n",
    "5) Filter champions based off at least 500 games played\n",
    "6) Convert game time to MM:SS format\n",
    "7) Display findings in data frame format\n",
    "8) Display graph showing top 5 champs for this role/lane"
   ]
  },
  {
   "cell_type": "code",
   "execution_count": null,
   "metadata": {},
   "outputs": [],
   "source": [
    "# Count occurrences of each champion\n",
    "champ_counts = TOP.groupby('Name').size().reset_index(name='Count')\n",
    "\n",
    "# Group by 'Name' and calculate average stats\n",
    "top_sum = TOP.groupby('Name').agg(\n",
    "    Kills=('Kills', 'mean'),\n",
    "    Deaths=('Deaths', 'mean'),\n",
    "    Assists=('Assists', 'mean'),\n",
    "    Game_Time=('Game Time (s)', 'mean')\n",
    ").round(1)\n",
    "\n",
    "# Calculate KDA\n",
    "def calculate_kda(df):\n",
    "    df['KDA'] = (df['Kills'] + df['Assists']) / df['Deaths']\n",
    "    return df\n",
    "\n",
    "# Apply KDA to the DataFrame\n",
    "top_sum = calculate_kda(top_sum.copy())\n",
    "\n",
    "# Merge the DataFrames based on 'Name'\n",
    "top_sum = top_sum.merge(champ_counts, on='Name')\n",
    "\n",
    "# Filter for champions played at least 500 times\n",
    "top_sum = top_sum[top_sum['Count'] >= 500]\n",
    "\n",
    "# Sort by KDA in descending order\n",
    "top_sum = top_sum.sort_values(by='KDA', ascending=False)\n",
    "\n",
    "# Remove the index column\n",
    "top_sum = top_sum.reset_index(drop=True)\n",
    "\n",
    "# Convert 'Game_Time(Mean)' to MM:SS format\n",
    "top_sum['Game_Time'] = top_sum['Game_Time'].apply(\n",
    "    lambda x: str(int(x // 60)).zfill(2) + 'm ' + \n",
    "             str(int(x % 60)).zfill(2) + 's' if pd.notna(x) else 'NaN')\n",
    "\n",
    "# Print DataFrame\n",
    "print(top_sum)"
   ]
  },
  {
   "cell_type": "code",
   "execution_count": null,
   "metadata": {},
   "outputs": [],
   "source": [
    "# Top 10 Top Lane Champs\n",
    "top_sum_5 = top_sum.sort_values(by='KDA', ascending=False).head(5)\n",
    "\n",
    "top_sum_5.plot(x='Name', y='KDA', kind='bar', color='blue', legend=None)\n",
    "\n",
    "plt.title('Top 5 Top Lane Champs')\n",
    "plt.xlabel('Champs')\n",
    "plt.ylabel('KDA Count')\n",
    "\n",
    "plt.show()"
   ]
  },
  {
   "cell_type": "markdown",
   "metadata": {},
   "source": [
    "1) Jungle Champs only"
   ]
  },
  {
   "cell_type": "code",
   "execution_count": null,
   "metadata": {},
   "outputs": [],
   "source": [
    "# JUNGLE Data Frame\n",
    "\n",
    "JUNGLE = merged_df[merged_df['Position'].isin(['Jungle'])]\n",
    "\n",
    "JUNGLE"
   ]
  },
  {
   "cell_type": "markdown",
   "metadata": {},
   "source": [
    "1) Count the champs within jungle data frame\n",
    "2) Groupby for kills, deaths, assists, game time round each # by .1\n",
    "3) Calculate KDA based off previous groupby\n",
    "4) Apply KDA to data frame \n",
    "5) Filter champions based off at least 500 games played\n",
    "6) Convert game time to MM:SS format\n",
    "7) Display findings in data frame format\n",
    "8) Display graph showing top 5 champs for this role/lane"
   ]
  },
  {
   "cell_type": "code",
   "execution_count": null,
   "metadata": {},
   "outputs": [],
   "source": [
    "# Count occurrences of each champion\n",
    "champ_counts = JUNGLE.groupby('Name').size().reset_index(name='Count')\n",
    "\n",
    "# Group by 'Name' and calculate average stats\n",
    "jungle_sum = JUNGLE.groupby('Name').agg(\n",
    "    Kills=('Kills', 'mean'),\n",
    "    Deaths=('Deaths', 'mean'),\n",
    "    Assists=('Assists', 'mean'),\n",
    "    Game_Time=('Game Time (s)', 'mean')\n",
    ").round(1)\n",
    "\n",
    "# Calculate KDA\n",
    "def calculate_kda(df):\n",
    "    df['KDA'] = (df['Kills'] + df['Assists']) / df['Deaths']\n",
    "    return df\n",
    "\n",
    "# Apply KDA to the DataFrame\n",
    "jungle_sum = calculate_kda(jungle_sum.copy())\n",
    "\n",
    "# Merge the DataFrames based on 'Name'\n",
    "jungle_sum = jungle_sum.merge(champ_counts, on='Name')\n",
    "\n",
    "# Filter for champions played at least 500 times\n",
    "jungle_sum = jungle_sum[jungle_sum['Count'] >= 500]\n",
    "\n",
    "# Sort by KDA in descending order\n",
    "jungle_sum = jungle_sum.sort_values(by='KDA', ascending=False)\n",
    "\n",
    "# Remove the index column\n",
    "jungle_sum = jungle_sum.reset_index(drop=True)\n",
    "\n",
    "# Convert 'Game_Time(Mean)' to MM:SS format\n",
    "jungle_sum['Game_Time'] = jungle_sum['Game_Time'].apply(\n",
    "    lambda x: str(int(x // 60)).zfill(2) + 'm ' + \n",
    "             str(int(x % 60)).zfill(2) + 's' if pd.notna(x) else 'NaN')\n",
    "\n",
    "# Print DataFrame\n",
    "print(jungle_sum)"
   ]
  },
  {
   "cell_type": "code",
   "execution_count": null,
   "metadata": {},
   "outputs": [],
   "source": [
    "# Top 10 Jungle Champs\n",
    "jungle_sum_5 = jungle_sum.sort_values(by='KDA', ascending=False).head(5)\n",
    "\n",
    "jungle_sum_5.plot(x='Name', y='KDA', kind='bar', color='green', legend=None)\n",
    "\n",
    "plt.title('Top 5 Jungle Champs')\n",
    "plt.xlabel('Champs')\n",
    "plt.ylabel('KDA Count')\n",
    "\n",
    "plt.show()"
   ]
  },
  {
   "cell_type": "markdown",
   "metadata": {},
   "source": [
    "1) Middle Champs only"
   ]
  },
  {
   "cell_type": "code",
   "execution_count": null,
   "metadata": {},
   "outputs": [],
   "source": [
    "# MIDDLE Data Frame\n",
    "\n",
    "MIDDLE = merged_df[merged_df['Position'].isin(['Middle'])]\n",
    "\n",
    "MIDDLE"
   ]
  },
  {
   "cell_type": "code",
   "execution_count": null,
   "metadata": {},
   "outputs": [],
   "source": [
    "# Count occurrences of each champion\n",
    "champ_counts = MIDDLE.groupby('Name').size().reset_index(name='Count')\n",
    "\n",
    "# Group by 'Name' and calculate average stats\n",
    "middle_sum = MIDDLE.groupby('Name').agg(\n",
    "    Kills=('Kills', 'mean'),\n",
    "    Deaths=('Deaths', 'mean'),\n",
    "    Assists=('Assists', 'mean'),\n",
    "    Game_Time=('Game Time (s)', 'mean')\n",
    ").round(1)\n",
    "\n",
    "# Calculate KDA\n",
    "def calculate_kda(df):\n",
    "    df['KDA'] = (df['Kills'] + df['Assists']) / df['Deaths']\n",
    "    return df\n",
    "\n",
    "# Apply KDA to the DataFrame\n",
    "middle_sum = calculate_kda(middle_sum.copy())\n",
    "\n",
    "# Merge the DataFrames based on 'Name'\n",
    "middle_sum = middle_sum.merge(champ_counts, on='Name')\n",
    "\n",
    "# Filter for champions played at least 500 times\n",
    "middle_sum = middle_sum[middle_sum['Count'] >= 500]\n",
    "\n",
    "# Sort by KDA in descending order\n",
    "middle_sum = middle_sum.sort_values(by='KDA', ascending=False)\n",
    "\n",
    "# Remove the index column\n",
    "middle_sum = middle_sum.reset_index(drop=True)\n",
    "\n",
    "# Convert 'Game_Time(Mean)' to MM:SS format\n",
    "middle_sum['Game_Time'] = middle_sum['Game_Time'].apply(\n",
    "    lambda x: str(int(x // 60)).zfill(2) + 'm ' + \n",
    "             str(int(x % 60)).zfill(2) + 's' if pd.notna(x) else 'NaN')\n",
    "\n",
    "# Print DataFrame\n",
    "print(middle_sum)"
   ]
  },
  {
   "cell_type": "markdown",
   "metadata": {},
   "source": [
    "1) Count the champs within middle data frame\n",
    "2) Groupby for kills, deaths, assists, game time round each # by .1\n",
    "3) Calculate KDA based off previous groupby\n",
    "4) Apply KDA to data frame \n",
    "5) Filter champions based off at least 500 games played\n",
    "6) Convert game time to MM:SS format\n",
    "7) Display findings in data frame format\n",
    "8) Display graph showing top 5 champs for this role/lane"
   ]
  },
  {
   "cell_type": "code",
   "execution_count": null,
   "metadata": {},
   "outputs": [],
   "source": [
    "# Top 10 Middle Lane Champs\n",
    "middle_sum_5 = middle_sum.sort_values(by='KDA', ascending=False).head(5)\n",
    "\n",
    "middle_sum_5.plot(x='Name', y='KDA', kind='bar', color='red', legend=None)\n",
    "\n",
    "plt.title('Top 5 Middle Lane Champs')\n",
    "plt.xlabel('Champs')\n",
    "plt.ylabel('KDA Count')\n",
    "\n",
    "plt.show()"
   ]
  },
  {
   "cell_type": "markdown",
   "metadata": {},
   "source": [
    "1) Bottom Champs only"
   ]
  },
  {
   "cell_type": "code",
   "execution_count": null,
   "metadata": {},
   "outputs": [],
   "source": [
    "# Bottom Dataframe\n",
    "\n",
    "BOTTOM = merged_df[merged_df['Position'].isin(['Bottom'])]\n",
    "\n",
    "BOTTOM"
   ]
  },
  {
   "cell_type": "markdown",
   "metadata": {},
   "source": [
    "1) Count the champs within bottom data frame\n",
    "2) Groupby for kills, deaths, assists, game time round each # by .1\n",
    "3) Calculate KDA based off previous groupby\n",
    "4) Apply KDA to data frame \n",
    "5) Filter champions based off at least 500 games played\n",
    "6) Convert game time to MM:SS format\n",
    "7) Display findings in data frame format\n",
    "8) Display graph showing top 5 champs for this role/lane"
   ]
  },
  {
   "cell_type": "code",
   "execution_count": null,
   "metadata": {},
   "outputs": [],
   "source": [
    "# Count occurrences of each champion\n",
    "champ_counts = BOTTOM.groupby('Name').size().reset_index(name='Count')\n",
    "\n",
    "# Group by 'Name' and calculate average stats\n",
    "bottom_sum = BOTTOM.groupby('Name').agg(\n",
    "    Kills=('Kills', 'mean'),\n",
    "    Deaths=('Deaths', 'mean'),\n",
    "    Assists=('Assists', 'mean'),\n",
    "    Game_Time=('Game Time (s)', 'mean')\n",
    ").round(1)\n",
    "\n",
    "# Calculate KDA\n",
    "def calculate_kda(df):\n",
    "    df['KDA'] = (df['Kills'] + df['Assists']) / df['Deaths']\n",
    "    return df\n",
    "\n",
    "# Apply KDA to the DataFrame\n",
    "bottom_sum = calculate_kda(bottom_sum.copy())\n",
    "\n",
    "# Merge the DataFrames based on 'Name'\n",
    "bottom_sum = bottom_sum.merge(champ_counts, on='Name')\n",
    "\n",
    "# Filter for champions played at least 500 times\n",
    "bottom_sum = bottom_sum[bottom_sum['Count'] >= 500]\n",
    "\n",
    "# Sort by KDA in descending order\n",
    "bottom_sum = bottom_sum.sort_values(by='KDA', ascending=False)\n",
    "\n",
    "# Remove the index column\n",
    "bottom_sum = bottom_sum.reset_index(drop=True)\n",
    "\n",
    "# Convert 'Game_Time(Mean)' to MM:SS format\n",
    "bottom_sum['Game_Time'] = bottom_sum['Game_Time'].apply(\n",
    "    lambda x: str(int(x // 60)).zfill(2) + 'm ' + \n",
    "             str(int(x % 60)).zfill(2) + 's' if pd.notna(x) else 'NaN')\n",
    "\n",
    "# Print DataFrame\n",
    "print(bottom_sum)"
   ]
  },
  {
   "cell_type": "code",
   "execution_count": null,
   "metadata": {},
   "outputs": [],
   "source": [
    "# Top 10 Bottom Lane Champs\n",
    "bottom_sum_5 = bottom_sum.sort_values(by='KDA', ascending=False).head(5)\n",
    "\n",
    "bottom_sum_5.plot(x='Name', y='KDA', kind='bar', color='orange', legend=None)\n",
    "\n",
    "plt.title('Top 5 Bottom Lane Champs')\n",
    "plt.xlabel('Champs')\n",
    "plt.ylabel('KDA Count')\n",
    "\n",
    "plt.show()"
   ]
  },
  {
   "cell_type": "markdown",
   "metadata": {},
   "source": [
    "1) Support Champs only"
   ]
  },
  {
   "cell_type": "code",
   "execution_count": null,
   "metadata": {},
   "outputs": [],
   "source": [
    "# SUPPORT Data Frame\n",
    "\n",
    "SUPPORT = merged_df[merged_df['Position'].isin(['Support'])]\n",
    "\n",
    "SUPPORT"
   ]
  },
  {
   "cell_type": "markdown",
   "metadata": {},
   "source": [
    "1) Count the champs within support data frame\n",
    "2) Groupby for kills, deaths, assists, game time round each # by .1\n",
    "3) Calculate KDA based off previous groupby\n",
    "4) Apply KDA to data frame \n",
    "5) Filter champions based off at least 500 games played\n",
    "6) Convert game time to MM:SS format\n",
    "7) Display findings in data frame format\n",
    "8) Display graph showing top 5 champs for this role/lane"
   ]
  },
  {
   "cell_type": "code",
   "execution_count": null,
   "metadata": {},
   "outputs": [],
   "source": [
    "# Count occurrences of each champion\n",
    "champ_counts = SUPPORT.groupby('Name').size().reset_index(name='Count')\n",
    "\n",
    "# Group by 'Name' and calculate average stats\n",
    "support_sum = SUPPORT.groupby('Name').agg(\n",
    "    Kills=('Kills', 'mean'),\n",
    "    Deaths=('Deaths', 'mean'),\n",
    "    Assists=('Assists', 'mean'),\n",
    "    Game_Time=('Game Time (s)', 'mean')\n",
    ").round(1)\n",
    "\n",
    "# Calculate KDA\n",
    "def calculate_kda(df):\n",
    "    df['KDA'] = (df['Kills'] + df['Assists']) / df['Deaths']\n",
    "    return df\n",
    "\n",
    "# Apply KDA to the DataFrame\n",
    "support_sum = calculate_kda(support_sum.copy())\n",
    "\n",
    "# Merge the DataFrames based on 'Name'\n",
    "support_sum = support_sum.merge(champ_counts, on='Name')\n",
    "\n",
    "# Filter for champions played at least 500 times\n",
    "support_sum = support_sum[support_sum['Count'] >= 500]\n",
    "\n",
    "# Sort by KDA in descending order\n",
    "support_sum = support_sum.sort_values(by='KDA', ascending=False)\n",
    "\n",
    "# Remove the index column\n",
    "support_sum = support_sum.reset_index(drop=True)\n",
    "\n",
    "# Convert 'Game_Time(Mean)' to MM:SS format\n",
    "support_sum['Game_Time'] = support_sum['Game_Time'].apply(\n",
    "    lambda x: str(int(x // 60)).zfill(2) + 'm ' + \n",
    "              str(int(x % 60)).zfill(2) + 's' if pd.notna(x) else 'NaN')\n",
    "\n",
    "# Print DataFrame\n",
    "support_sum"
   ]
  },
  {
   "cell_type": "code",
   "execution_count": null,
   "metadata": {},
   "outputs": [],
   "source": [
    "# Top 10 Support Champs\n",
    "support_sum_5 = support_sum.sort_values(by='KDA', ascending=False).head(5)\n",
    "\n",
    "support_sum_5.plot(x='Name',y='KDA', kind='bar', color='purple',legend=None)\n",
    "\n",
    "plt.title('Top 5 Support Champs')\n",
    "plt.xlabel('Champs')\n",
    "plt.ylabel('KDA Count')\n",
    "\n",
    "plt.show()"
   ]
  }
 ],
 "metadata": {
  "kernelspec": {
   "display_name": "Python 3",
   "language": "python",
   "name": "python3"
  },
  "language_info": {
   "codemirror_mode": {
    "name": "ipython",
    "version": 3
   },
   "file_extension": ".py",
   "mimetype": "text/x-python",
   "name": "python",
   "nbconvert_exporter": "python",
   "pygments_lexer": "ipython3",
   "version": "3.11.9"
  }
 },
 "nbformat": 4,
 "nbformat_minor": 2
}
