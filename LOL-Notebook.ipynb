{
 "cells": [
  {
   "cell_type": "code",
   "execution_count": 1,
   "metadata": {},
   "outputs": [],
   "source": [
    "# 1 Importing Pandas\n",
    "\n",
    "import pandas as pd"
   ]
  },
  {
   "cell_type": "code",
   "execution_count": 2,
   "metadata": {},
   "outputs": [],
   "source": [
    "# 2 Loading Data Sets\n",
    "\n",
    "champs = df1= pd.read_excel(\"Data-Sets/Champions-2024.xlsx\",)\n",
    "match = df2 = pd.read_csv(\"Data-Sets/lol_match_data.csv\",)\n",
    "main_event = df3 = pd.read_csv(\"Data-Sets/champions.csv\",)\n",
    "swiss_stage = df4 = pd.read_csv(\"Data-Sets/lol_player_data.csv\",)"
   ]
  },
  {
   "cell_type": "code",
   "execution_count": null,
   "metadata": {},
   "outputs": [],
   "source": [
    "# 2A Champion Details (Can Skip)\n",
    "# https://www.kaggle.com/datasets/gabkgonzales/league-of-legends-dataset\n",
    "\n",
    "champs"
   ]
  },
  {
   "cell_type": "code",
   "execution_count": null,
   "metadata": {},
   "outputs": [],
   "source": [
    "# 2B Match Data (Can Skip)\n",
    "# Link - https://www.kaggle.com/datasets/mldatastudent/league-of-legends-match-data (Big File)\n",
    "\n",
    "match"
   ]
  },
  {
   "cell_type": "code",
   "execution_count": null,
   "metadata": {},
   "outputs": [],
   "source": [
    "# 2C 2024 Main Event Champion Latest Stats (Can Skip)\n",
    "# https://www.kaggle.com/datasets/anmatngu/league-of-legends-worlds-2024-swiss-stage-stats\n",
    "\n",
    "main_event\n"
   ]
  },
  {
   "cell_type": "code",
   "execution_count": null,
   "metadata": {},
   "outputs": [],
   "source": [
    "# 2D 2024 (Can Skip)\n",
    "# \n",
    "\n",
    "#swiss_stage"
   ]
  },
  {
   "cell_type": "code",
   "execution_count": null,
   "metadata": {},
   "outputs": [],
   "source": [
    "# 3 Dropping Unneccessary columns for champs df\n",
    "# Dropping 6 Columnsfrom champions df(cleaning)\n",
    "\n",
    "champs.drop(['Nick Name', \n",
    "             'Role', \n",
    "             'Range type', \n",
    "             'Resourse type', \n",
    "             'Base HP', \n",
    "             'Base mana',\n",
    "             'Difficulty',\n",
    "             'Classes'], axis=1, inplace=True)\n",
    "\n",
    "# Display Champs DF\n",
    "champs\n",
    "\n",
    "# (Fix Below) Slice 'Release Date' -9 to remove HH:MM:SS\n",
    "\n",
    "#champs['Release Date'].str[:-9]\n",
    "\n",
    "#champs"
   ]
  },
  {
   "cell_type": "code",
   "execution_count": null,
   "metadata": {},
   "outputs": [],
   "source": [
    "# 4 Cleaning / Removing unwanted columns for match df\n",
    "# Dropping 97 columns retaining 11 columns from match df\n",
    "\n",
    "match = df2[['player_teamPosition',\n",
    "            'player_champName',\n",
    "            'player_champName_ban',\n",
    "            'player_kills', \n",
    "            'player_deaths', \n",
    "            'player_assists',\n",
    "            'player_kda',\n",
    "            'player_totalMinionsKilled', \n",
    "            'player_gameLength',\n",
    "            'player_longestTimeSpentLiving', \n",
    "            'player_totalTimeSpentDead']]\n",
    "\n",
    "match"
   ]
  },
  {
   "cell_type": "code",
   "execution_count": null,
   "metadata": {},
   "outputs": [],
   "source": [
    "# 5 Creating copy of match(df)\n",
    "match = match.copy()\n",
    "\n",
    "# 5A Rename match columns to make key 'Name' for df merge (see #8)\n",
    "match.rename(columns={'player_teamPosition' : 'Position', \n",
    "                     'player_champName' : 'Name', \n",
    "                     'player_champName_ban' : 'Banned Champ',\n",
    "                     'player_kills' : 'Kills',\n",
    "                     'player_deaths' : 'Deaths', \n",
    "                     'player_assists' : 'Assist', \n",
    "                     'player_kda' : 'KDA',\n",
    "                     'player_totalMinionsKilled' : 'CS', \n",
    "                     'player_gameLength' : \"Game Time (s)\", \n",
    "                     'player_longestTimeSpentLiving' : 'Longest Alive Time (s)', \n",
    "                     'player_totalTimeSpentDead' : 'Total Time Dead (s)'}, inplace=True)\n",
    "\n",
    "match\n",
    "\n",
    "# Drop Longest Alive Time, Total Dead, Game Time"
   ]
  },
  {
   "cell_type": "code",
   "execution_count": null,
   "metadata": {},
   "outputs": [],
   "source": [
    "# 6 Sort by Position and then by the desired column, if needed\n",
    "df2_sorted = match.sort_values(by=['Position'])\n",
    "\n",
    "# Display the sorted dataframe\n",
    "df2_sorted\n",
    "\n",
    "# Position picked up NaN values\n"
   ]
  },
  {
   "cell_type": "code",
   "execution_count": null,
   "metadata": {},
   "outputs": [],
   "source": [
    "\n",
    "# 7 Sort the dataframe by 'Position'\n",
    "df2_sorted = match.sort_values(by='Position')\n",
    "\n",
    "# Display the sorted dataframe\n",
    "df2_sorted\n"
   ]
  },
  {
   "cell_type": "code",
   "execution_count": null,
   "metadata": {},
   "outputs": [],
   "source": [
    "\n",
    "# 8 Merge Sorted Lanes and Champ information\n",
    "\n",
    "merged_df = pd.merge(df2_sorted, champs, on='Name', how='left')\n",
    "\n",
    "merged_df"
   ]
  },
  {
   "cell_type": "code",
   "execution_count": null,
   "metadata": {},
   "outputs": [],
   "source": [
    "# Groupby 'Name' Column and count each time a champ has been played\n",
    "merged_df_count = merged_df.groupby('Name').agg(Count=('Kills', 'count'))\n",
    "\n",
    "# Display # of times a champ has been played\n",
    "print(merged_df_count)\n",
    "\n",
    "# Groupby to get counts for each champs stats (Kills, Deaths, Assist, KDA, Game Time)\n",
    "# Convert Game_Time to HH:MM:SS formart\n",
    "\n",
    "merged_df_count = merged_df.groupby('Name').agg(Kills=('Kills', 'sum'), \n",
    "                                        Deaths=('Deaths', 'sum'),\n",
    "                                        Assist=('Assist', 'sum'),\n",
    "                                        Game_Time=('Game Time (s)', 'sum'))\n",
    "\n",
    "\n",
    "\n",
    "# New Dataframe (Count)\n",
    "print(merged_df_count)"
   ]
  },
  {
   "cell_type": "code",
   "execution_count": null,
   "metadata": {},
   "outputs": [],
   "source": [
    "# Rename count totals  \n",
    "merged_df_count.rename(columns={'Kills' : 'Kills(Total)', \n",
    "                     'Deaths' : 'Deaths(Total)', \n",
    "                     'Assist' : 'Assist(Total)',\n",
    "                     'Game_Time' : 'Game_Time(Total)',}, inplace=True)\n",
    "\n",
    "merged_df_count"
   ]
  },
  {
   "cell_type": "code",
   "execution_count": null,
   "metadata": {},
   "outputs": [],
   "source": [
    "# Groupby 'Name' Column and count each time a champ has been played\n",
    "merged_df_mean = merged_df.groupby('Name').agg(Count=('Kills', 'count'))\n",
    "\n",
    "# Display # of times a champ has been played\n",
    "print(merged_df_mean)\n",
    "\n",
    "# Groupby to get counts for each champs stats (Kills, Deaths, Assist, KDA, Game Time)\n",
    "merged_df_mean = merged_df.groupby('Name').agg(Kills=('Kills', 'mean'), \n",
    "                                        Deaths=('Deaths', 'mean'),\n",
    "                                        Assist=('Assist', 'mean'),\n",
    "                                        KDA=('KDA', 'mean'),\n",
    "                                        Game_Time=('Game Time (s)', 'mean'))\n",
    "\n",
    "merged_df_mean\n",
    "# "
   ]
  },
  {
   "cell_type": "code",
   "execution_count": null,
   "metadata": {},
   "outputs": [],
   "source": [
    "# Display merged_df_mean columns\n",
    "merged_df_mean.columns\n",
    "\n",
    "# Rename mean totals  \n",
    "merged_df_mean.rename(columns={'Kills' : 'Kills(Mean)', \n",
    "                     'Deaths' : 'Deaths(Mean)', \n",
    "                     'Assist' : 'Assist(Mean)',\n",
    "                     'KDA' : 'KDA(Mean)',\n",
    "                     'Game_Time' : 'Game_Time(Mean)'}, inplace=True)\n",
    "\n",
    "merged_df_mean"
   ]
  },
  {
   "cell_type": "code",
   "execution_count": null,
   "metadata": {},
   "outputs": [],
   "source": [
    "# Attempt to change 'Game Time' to minutes and seconds\n",
    "# Fix Game_Time\n",
    "\n",
    "#merged_df_mean = merged_df_mean['Game_Time'].apply(lambda x: x/60)\n",
    "\n",
    "#merged_df_mean"
   ]
  },
  {
   "cell_type": "code",
   "execution_count": null,
   "metadata": {},
   "outputs": [],
   "source": [
    "# 8 Merge Sorted Lanes and Champ information\n",
    "\n",
    "merged_count_mean = pd.merge(merged_df_count, merged_df_mean, on='Name', how='left')\n",
    "\n",
    "merged_count_mean\n"
   ]
  },
  {
   "cell_type": "code",
   "execution_count": null,
   "metadata": {},
   "outputs": [],
   "source": [
    "# Rearranging Total & Average Dataframe\n",
    "merged_count_mean = merged_count_mean[['Kills(Total)','Kills(Mean)', 'Deaths(Total)', 'Deaths(Mean)', 'Assist(Total)', 'Assist(Mean)', 'KDA(Mean)', 'Game_Time(Mean)']]\n",
    "\n",
    "# Kill Leader\n",
    "kill_leaders = merged_count_mean.sort_values('KDA(Mean)', ascending=False)\n",
    "\n",
    "kill_leaders"
   ]
  },
  {
   "cell_type": "code",
   "execution_count": null,
   "metadata": {},
   "outputs": [],
   "source": [
    "# Sort Values by highest \"Kills, Deaths, Assist, etc\"\n",
    "\n",
    "# Kills\n",
    "merged_kills_count = merged_df_count.sort_values(by='Kills(Total)', ascending=False)\n",
    "\n",
    "# Deaths\n",
    "merged_deaths_count = merged_df_count.sort_values(by='Deaths(Total)', ascending=False)\n",
    "\n",
    "# Assist\n",
    "merged_assist_count = merged_df_count.sort_values(by='Assist(Total)', ascending=False)\n"
   ]
  },
  {
   "cell_type": "code",
   "execution_count": null,
   "metadata": {},
   "outputs": [],
   "source": [
    "# Sort Values by highest \"Kills, Deaths, Assist, etc\"\n",
    "\n",
    "# Kills\n",
    "merged_kills_mean = merged_df_mean.sort_values(by='Kills(Mean)', ascending=False)\n",
    "\n",
    "# Deaths\n",
    "merged_deaths_mean = merged_df_mean.sort_values(by='Deaths(Mean)', ascending=False)\n",
    "\n",
    "# Assist\n",
    "merged_assist_mean = merged_df_mean.sort_values(by='Assist(Mean)', ascending=False)"
   ]
  },
  {
   "cell_type": "code",
   "execution_count": null,
   "metadata": {},
   "outputs": [],
   "source": [
    "# Top Data Frame\n",
    "\n",
    "TOP = merged_df[merged_df['Position'].isin(['TOP'])]\n",
    "\n",
    "TOP\n"
   ]
  },
  {
   "cell_type": "code",
   "execution_count": null,
   "metadata": {},
   "outputs": [],
   "source": [
    "# Groupby 'Name' Column and count each time a champ has been played\n",
    "top_count = TOP.groupby('Name').agg(Count=('Kills', 'count'))\n",
    "\n",
    "# Display # of times a champ has been played\n",
    "print(top_count)\n",
    "\n",
    "# Groupby to get counts for each champs stats (Kills, Deaths, Assist, KDA, Game Time)\n",
    "top_count = TOP.groupby('Name').agg(Kills=('Kills', 'sum'), \n",
    "                                        Deaths=('Deaths', 'sum'),\n",
    "                                        Assist=('Assist', 'sum'),\n",
    "                                        KDA=('KDA', 'sum'),\n",
    "                                        Game_Time=('Game Time (s)', 'sum'))\n",
    "\n",
    "\n",
    "\n",
    "# New Dataframe (Count)\n",
    "print(top_count)"
   ]
  },
  {
   "cell_type": "code",
   "execution_count": null,
   "metadata": {},
   "outputs": [],
   "source": [
    "# Groupby 'Name' Column and count each time a champ has been played\n",
    "top_sum = TOP.groupby('Name').agg(Count=('Name', 'count'))\n",
    "\n",
    "# Display # of times a champ has been played\n",
    "print(top_sum)\n",
    "\n",
    "# Groupby to get averages for each champs stats (Kills, Deaths, Assist, KDA, Game Time)\n",
    "top_sum = TOP.groupby('Name').agg(Kills=('Kills', 'mean'), \n",
    "                                        Deaths=('Deaths', 'mean'),\n",
    "                                        Assist=('Assist', 'mean'),\n",
    "                                        KDA=('KDA', 'mean'),\n",
    "                                        Game_Time=('Game Time (s)', 'mean'))\n",
    "\n",
    "# New Dataframe (Average)\n",
    "print(top_sum)"
   ]
  },
  {
   "cell_type": "code",
   "execution_count": null,
   "metadata": {},
   "outputs": [],
   "source": [
    "# JUNGLE Data Frame\n",
    "\n",
    "JUNGLE = merged_df[merged_df['Position'].isin(['JUNGLE'])]\n",
    "\n",
    "JUNGLE"
   ]
  },
  {
   "cell_type": "code",
   "execution_count": null,
   "metadata": {},
   "outputs": [],
   "source": [
    "# Groupby 'Name' Column and count each time a champ has been played\n",
    "jungle_count = JUNGLE.groupby('Name').agg(Count=('Kills', 'count'))\n",
    "\n",
    "# Display # of times a champ has been played\n",
    "print(jungle_count)\n",
    "\n",
    "# Groupby to get counts for each champs stats (Kills, Deaths, Assist, KDA, Game Time)\n",
    "jungle_count = JUNGLE.groupby('Name').agg(Kills=('Kills', 'sum'), \n",
    "                                        Deaths=('Deaths', 'sum'),\n",
    "                                        Assist=('Assist', 'sum'),\n",
    "                                        KDA=('KDA', 'sum'),\n",
    "                                        Game_Time=('Game Time (s)', 'sum'))\n",
    "\n",
    "\n",
    "\n",
    "# New Dataframe (Count)\n",
    "print(jungle_count)"
   ]
  },
  {
   "cell_type": "code",
   "execution_count": null,
   "metadata": {},
   "outputs": [],
   "source": [
    "# Groupby 'Name' Column and count each time a champ has been played\n",
    "jungle_sum = JUNGLE.groupby('Name').agg(Count=('Name', 'count'))\n",
    "\n",
    "# Display # of times a champ has been played\n",
    "print(jungle_sum)\n",
    "\n",
    "# Groupby to get averages for each champs stats (Kills, Deaths, Assist, KDA, Game Time)\n",
    "jungle_sum = JUNGLE.groupby('Name').agg(Kills=('Kills', 'mean'), \n",
    "                                        Deaths=('Deaths', 'mean'),\n",
    "                                        Assist=('Assist', 'mean'),\n",
    "                                        KDA=('KDA', 'mean'),\n",
    "                                        Game_Time=('Game Time (s)', 'mean'))\n",
    "\n",
    "# New Dataframe (Average)\n",
    "print(jungle_sum)"
   ]
  },
  {
   "cell_type": "code",
   "execution_count": null,
   "metadata": {},
   "outputs": [],
   "source": [
    "# MIDDLE Data Frame\n",
    "\n",
    "MIDDLE = merged_df[merged_df['Position'].isin(['MIDDLE'])]\n",
    "\n",
    "MIDDLE"
   ]
  },
  {
   "cell_type": "code",
   "execution_count": null,
   "metadata": {},
   "outputs": [],
   "source": [
    "# Groupby 'Name' Column and count each time a champ has been played\n",
    "middle_count = MIDDLE.groupby('Name').agg(Count=('Kills', 'count'))\n",
    "\n",
    "# Display # of times a champ has been played\n",
    "print(middle_count)\n",
    "\n",
    "# Groupby to get counts for each champs stats (Kills, Deaths, Assist, KDA, Game Time)\n",
    "middle_count = MIDDLE.groupby('Name').agg(Kills=('Kills', 'sum'), \n",
    "                                        Deaths=('Deaths', 'sum'),\n",
    "                                        Assist=('Assist', 'sum'),\n",
    "                                        KDA=('KDA', 'sum'),\n",
    "                                        Game_Time=('Game Time (s)', 'sum'))\n",
    "\n",
    "\n",
    "\n",
    "# New Dataframe (Count)\n",
    "print(middle_count)"
   ]
  },
  {
   "cell_type": "code",
   "execution_count": null,
   "metadata": {},
   "outputs": [],
   "source": [
    "# Groupby 'Name' Column and count each time a champ has been played\n",
    "middle_sum = MIDDLE.groupby('Name').agg(Count=('Name', 'count'))\n",
    "\n",
    "# Display # of times a champ has been played\n",
    "print(middle_sum)\n",
    "\n",
    "# Groupby to get averages for each champs stats (Kills, Deaths, Assist, KDA, Game Time)\n",
    "middle_sum_sum = MIDDLE.groupby('Name').agg(Kills=('Kills', 'mean'), \n",
    "                                        Deaths=('Deaths', 'mean'),\n",
    "                                        Assist=('Assist', 'mean'),\n",
    "                                        KDA=('KDA', 'mean'),\n",
    "                                        Game_Time=('Game Time (s)', 'mean'))\n",
    "\n",
    "# New Dataframe (Average)\n",
    "print(middle_sum)"
   ]
  },
  {
   "cell_type": "code",
   "execution_count": null,
   "metadata": {},
   "outputs": [],
   "source": [
    "BOTTOM = merged_df[merged_df['Position'].isin(['BOTTOM'])]\n",
    "\n",
    "BOTTOM"
   ]
  },
  {
   "cell_type": "code",
   "execution_count": null,
   "metadata": {},
   "outputs": [],
   "source": [
    "# Groupby 'Name' Column and count each time a champ has been played\n",
    "bottom_count = BOTTOM.groupby('Name').agg(Count=('Kills', 'count'))\n",
    "\n",
    "# Display # of times a champ has been played\n",
    "print(bottom_count)\n",
    "\n",
    "# Groupby to get counts for each champs stats (Kills, Deaths, Assist, KDA, Game Time)\n",
    "bottom_count = BOTTOM.groupby('Name').agg(Kills=('Kills', 'sum'), \n",
    "                                        Deaths=('Deaths', 'sum'),\n",
    "                                        Assist=('Assist', 'sum'),\n",
    "                                        KDA=('KDA', 'sum'),\n",
    "                                        Game_Time=('Game Time (s)', 'sum'))\n",
    "\n",
    "\n",
    "\n",
    "# New Dataframe (Count)\n",
    "print(bottom_count)"
   ]
  },
  {
   "cell_type": "code",
   "execution_count": null,
   "metadata": {},
   "outputs": [],
   "source": [
    "# Groupby 'Name' Column and count each time a champ has been played\n",
    "bottom_sum = BOTTOM.groupby('Name').agg(Count=('Name', 'count'))\n",
    "\n",
    "# Display # of times a champ has been played\n",
    "print(bottom_sum)\n",
    "\n",
    "# Groupby to get averages for each champs stats (Kills, Deaths, Assist, KDA, Game Time)\n",
    "bottom_sum = BOTTOM.groupby('Name').agg(Kills=('Kills', 'mean'), \n",
    "                                        Deaths=('Deaths', 'mean'),\n",
    "                                        Assist=('Assist', 'mean'),\n",
    "                                        KDA=('KDA', 'mean'),\n",
    "                                        Game_Time=('Game Time (s)', 'mean'))\n",
    "\n",
    "# New Dataframe (Average)\n",
    "print(bottom_sum)"
   ]
  },
  {
   "cell_type": "code",
   "execution_count": null,
   "metadata": {},
   "outputs": [],
   "source": [
    "# UTILITY Data Frame\n",
    "\n",
    "UTILITY = merged_df[merged_df['Position'].isin(['UTILITY'])]\n",
    "\n",
    "UTILITY"
   ]
  },
  {
   "cell_type": "code",
   "execution_count": null,
   "metadata": {},
   "outputs": [],
   "source": [
    "# Groupby 'Name' Column and count each time a champ has been played\n",
    "utility_count = UTILITY.groupby('Name').agg(Count=('Kills', 'count'))\n",
    "\n",
    "# Display # of times a champ has been played\n",
    "print(utility_count)\n",
    "\n",
    "# Groupby to get counts for each champs stats (Kills, Deaths, Assist, KDA, Game Time)\n",
    "utility_count = UTILITY.groupby('Name').agg(Kills=('Kills', 'sum'), \n",
    "                                        Deaths=('Deaths', 'sum'),\n",
    "                                        Assist=('Assist', 'sum'),\n",
    "                                        KDA=('KDA', 'sum'),\n",
    "                                        Game_Time=('Game Time (s)', 'sum'))\n",
    "\n",
    "\n",
    "\n",
    "# New Dataframe (Count)\n",
    "print(utility_count)\n"
   ]
  },
  {
   "cell_type": "code",
   "execution_count": null,
   "metadata": {},
   "outputs": [],
   "source": [
    "# Groupby 'Name' Column and count each time a champ has been played\n",
    "utility_sum = UTILITY.groupby('Name').agg(Count=('Name', 'count'))\n",
    "\n",
    "# Display # of times a champ has been played\n",
    "print(utility_sum)\n",
    "\n",
    "# Groupby to get averages for each champs stats (Kills, Deaths, Assist, KDA, Game Time)\n",
    "utility_sum = UTILITY.groupby('Name').agg(Kills=('Kills', 'mean'), \n",
    "                                        Deaths=('Deaths', 'mean'),\n",
    "                                        Assist=('Assist', 'mean'),\n",
    "                                        KDA=('KDA', 'mean'),\n",
    "                                        Game_Time=('Game Time (s)', 'mean'))\n",
    "\n",
    "# New Dataframe (Average)\n",
    "print(utility_sum)"
   ]
  },
  {
   "cell_type": "code",
   "execution_count": null,
   "metadata": {},
   "outputs": [],
   "source": [
    "jungle_sum"
   ]
  },
  {
   "cell_type": "code",
   "execution_count": null,
   "metadata": {},
   "outputs": [],
   "source": [
    "# Everything above ok for now\n",
    "\n",
    "# Anything below needs work"
   ]
  }
 ],
 "metadata": {
  "kernelspec": {
   "display_name": "Python 3",
   "language": "python",
   "name": "python3"
  },
  "language_info": {
   "codemirror_mode": {
    "name": "ipython",
    "version": 3
   },
   "file_extension": ".py",
   "mimetype": "text/x-python",
   "name": "python",
   "nbconvert_exporter": "python",
   "pygments_lexer": "ipython3",
   "version": "3.11.9"
  }
 },
 "nbformat": 4,
 "nbformat_minor": 2
}
