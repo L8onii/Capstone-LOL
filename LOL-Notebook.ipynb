{
 "cells": [
  {
   "cell_type": "code",
   "execution_count": null,
   "metadata": {},
   "outputs": [],
   "source": [
    "# Importing Pandas\n",
    "\n",
    "import pandas as pd"
   ]
  },
  {
   "cell_type": "code",
   "execution_count": null,
   "metadata": {},
   "outputs": [],
   "source": [
    "# Loading Data Sets\n",
    "\n",
    "champs = df1= pd.read_excel(\"Data-Sets/Champions-2024.xlsx\",)\n",
    "match = df2 = pd.read_csv(\"Data-Sets/lol_match_data.csv\",)\n",
    "main_event = df3 = pd.read_csv(\"Data-Sets/champions.csv\",)\n",
    "swiss_stage = df4 = pd.read_csv(\"Data-Sets/lol_player_data.csv\",)"
   ]
  },
  {
   "cell_type": "code",
   "execution_count": null,
   "metadata": {},
   "outputs": [],
   "source": [
    "# Champion Details\n",
    "# https://www.kaggle.com/datasets/gabkgonzales/league-of-legends-dataset\n",
    "\n",
    "champs"
   ]
  },
  {
   "cell_type": "code",
   "execution_count": null,
   "metadata": {},
   "outputs": [],
   "source": [
    "# Match Data\n",
    "# Link - https://www.kaggle.com/datasets/mldatastudent/league-of-legends-match-data (Big File)\n",
    "\n",
    "match"
   ]
  },
  {
   "cell_type": "code",
   "execution_count": null,
   "metadata": {},
   "outputs": [],
   "source": [
    "# 2024 Main Event Champion Latest Stats\n",
    "# https://www.kaggle.com/datasets/anmatngu/league-of-legends-worlds-2024-swiss-stage-stats\n",
    "\n",
    "main_event\n"
   ]
  },
  {
   "cell_type": "code",
   "execution_count": null,
   "metadata": {},
   "outputs": [],
   "source": [
    "swiss_stage"
   ]
  },
  {
   "cell_type": "code",
   "execution_count": null,
   "metadata": {},
   "outputs": [],
   "source": [
    "# Dropping Unneccessary columns\n",
    "\n",
    "champs.drop(['Nick Name', 'Role', 'Range type', 'Resourse type', 'Base HP', 'Base mana'], axis=1, inplace=True)\n",
    "\n",
    "# Display Champs DF\n",
    "champs"
   ]
  },
  {
   "cell_type": "code",
   "execution_count": null,
   "metadata": {},
   "outputs": [],
   "source": [
    "# Cleaning / Removing unwanted columns\n",
    "\n",
    "match = df2[['player_teamPosition','player_champName','player_champName_ban','player_kills', 'player_deaths', 'player_assists','player_kda','player_totalMinionsKilled', 'player_gameLength','player_longestTimeSpentLiving', 'player_totalTimeSpentDead']]\n",
    "\n",
    "#4B Display column names\n",
    "match"
   ]
  },
  {
   "cell_type": "code",
   "execution_count": null,
   "metadata": {},
   "outputs": [],
   "source": [
    "# Rename match columns\n",
    "match.rename(columns={'player_teamPosition' : 'Position', 'player_champName' : 'Name', 'player_champName_ban' : 'Banned Champ',\n",
    "       'player_kills' : 'Kills', 'player_deaths' : 'Deaths', 'player_assists' : 'Assist', 'player_kda' : 'KDA',\n",
    "       'player_totalMinionsKilled' : 'CS', 'player_gameLength' : \"Game Time (s)\",\n",
    "       'player_longestTimeSpentLiving' : 'Longest Alive Time (s)', 'player_totalTimeSpentDead' : 'Total Time Dead (s)'}, inplace=True)\n",
    "\n",
    "match\n",
    "\n",
    "# Fix error (DeprecationWarning)"
   ]
  },
  {
   "cell_type": "code",
   "execution_count": null,
   "metadata": {},
   "outputs": [],
   "source": [
    "# Sort By Positions\n",
    "\n",
    "df2_sorted = match.groupby('Position').apply(lambda x: x.sort_values('Position'))\n",
    "\n",
    "df2_sorted\n",
    "\n",
    "# Fix error (DeprecationWarning)"
   ]
  },
  {
   "cell_type": "code",
   "execution_count": null,
   "metadata": {},
   "outputs": [],
   "source": [
    "# Sort By Positions\n",
    "\n",
    "df2_sorted = match.groupby('Position').apply(lambda x: x.sort_values('Position'))\n",
    "\n",
    "df2_sorted\n",
    "\n",
    "# Fix error (DeprecationWarning)"
   ]
  },
  {
   "cell_type": "code",
   "execution_count": null,
   "metadata": {},
   "outputs": [],
   "source": [
    "# Sort By Positions\n",
    "\n",
    "df2_sorted = match.groupby('Position').apply(lambda x: x.sort_values('Position'))\n",
    "\n",
    "df2_sorted\n",
    "\n",
    "# Fix error (DeprecationWarning)"
   ]
  },
  {
   "cell_type": "code",
   "execution_count": null,
   "metadata": {},
   "outputs": [],
   "source": [
    "# Merge Sorted Lanes and Champ information\n",
    "\n",
    "merged_df = pd.merge(df2_sorted, champs, on='Name')\n",
    "\n",
    "merged_df"
   ]
  },
  {
   "cell_type": "code",
   "execution_count": null,
   "metadata": {},
   "outputs": [],
   "source": [
    "# Top Data Frame\n",
    "\n",
    "TOP = merged_df[merged_df['Position'].isin(['TOP'])]\n",
    "\n",
    "TOP\n"
   ]
  },
  {
   "cell_type": "code",
   "execution_count": null,
   "metadata": {},
   "outputs": [],
   "source": [
    "# JUNGLE Data Frame\n",
    "\n",
    "JUNGLE = merged_df[merged_df['Position'].isin(['JUNGLE'])]\n",
    "\n",
    "JUNGLE"
   ]
  },
  {
   "cell_type": "code",
   "execution_count": null,
   "metadata": {},
   "outputs": [],
   "source": [
    "# MIDDLE Data Frame\n",
    "\n",
    "MIDDLE = merged_df[merged_df['Position'].isin(['MIDDLE'])]\n",
    "\n",
    "MIDDLE"
   ]
  },
  {
   "cell_type": "code",
   "execution_count": null,
   "metadata": {},
   "outputs": [],
   "source": [
    "# UTILITY Data Frame\n",
    "\n",
    "UTILITY = merged_df[merged_df['Position'].isin(['UTILITY'])]\n",
    "\n",
    "UTILITY"
   ]
  },
  {
   "cell_type": "code",
   "execution_count": null,
   "metadata": {},
   "outputs": [],
   "source": []
  }
 ],
 "metadata": {
  "kernelspec": {
   "display_name": "Python 3",
   "language": "python",
   "name": "python3"
  },
  "language_info": {
   "codemirror_mode": {
    "name": "ipython",
    "version": 3
   },
   "file_extension": ".py",
   "mimetype": "text/x-python",
   "name": "python",
   "nbconvert_exporter": "python",
   "pygments_lexer": "ipython3",
   "version": "3.11.9"
  }
 },
 "nbformat": 4,
 "nbformat_minor": 2
}
