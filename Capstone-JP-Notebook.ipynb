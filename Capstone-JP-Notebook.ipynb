{
 "cells": [
  {
   "cell_type": "code",
   "execution_count": null,
   "metadata": {},
   "outputs": [],
   "source": [
    "import pandas as pd"
   ]
  },
  {
   "cell_type": "code",
   "execution_count": null,
   "metadata": {},
   "outputs": [],
   "source": [
    "# Import Data Frames and setting DF names\n",
    " \n",
    "#df = pd.read_csv(\"C:/Users/15024/Desktop/Capstone/data/champions-swiss-2024.csv\",) #old data Season 12\n",
    "champs = df1= pd.read_excel(\"Data-Sets/Champions-2024.xlsx\",)\n",
    "match = df2 = pd.read_csv(\"Data-Sets/lol_match_data.csv\",)"
   ]
  },
  {
   "cell_type": "code",
   "execution_count": null,
   "metadata": {},
   "outputs": [],
   "source": [
    "# Import Data Frames and setting DF names\n",
    " \n",
    "#df = pd.read_csv(\"C:/Users/15024/Desktop/Capstone/data/champions-swiss-2024.csv\",) #old data Season 12\n",
    "#champs = df1= pd.read_excel(\"C:/Users/15024/Desktop/Capstone Project/data/Champions-2024.xlsx\",)\n",
    "#match = df2 = pd.read_csv(\"C:/Users/15024/Desktop/Capstone Project/data/LOL-DATA/lol_match_data.csv\",)"
   ]
  },
  {
   "cell_type": "code",
   "execution_count": null,
   "metadata": {},
   "outputs": [],
   "source": [
    "champs"
   ]
  },
  {
   "cell_type": "code",
   "execution_count": null,
   "metadata": {},
   "outputs": [],
   "source": [
    "match"
   ]
  }
 ],
 "metadata": {
  "kernelspec": {
   "display_name": "Python 3",
   "language": "python",
   "name": "python3"
  },
  "language_info": {
   "codemirror_mode": {
    "name": "ipython",
    "version": 3
   },
   "file_extension": ".py",
   "mimetype": "text/x-python",
   "name": "python",
   "nbconvert_exporter": "python",
   "pygments_lexer": "ipython3",
   "version": "3.11.9"
  }
 },
 "nbformat": 4,
 "nbformat_minor": 2
}
